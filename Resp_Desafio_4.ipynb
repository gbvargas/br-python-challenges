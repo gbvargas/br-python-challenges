{
  "nbformat": 4,
  "nbformat_minor": 0,
  "metadata": {
    "anaconda-cloud": {},
    "kernelspec": {
      "display_name": "Python 3",
      "language": "python",
      "name": "python3"
    },
    "language_info": {
      "codemirror_mode": {
        "name": "ipython",
        "version": 3
      },
      "file_extension": ".py",
      "mimetype": "text/x-python",
      "name": "python",
      "nbconvert_exporter": "python",
      "pygments_lexer": "ipython3",
      "version": "3.6.5"
    },
    "colab": {
      "name": "Resp-Desafio 4.ipynb",
      "provenance": [],
      "include_colab_link": true
    }
  },
  "cells": [
    {
      "cell_type": "markdown",
      "metadata": {
        "id": "view-in-github",
        "colab_type": "text"
      },
      "source": [
        "<a href=\"https://colab.research.google.com/github/gbvargas/br-python-challenges/blob/master/Resp_Desafio_4.ipynb\" target=\"_parent\"><img src=\"https://colab.research.google.com/assets/colab-badge.svg\" alt=\"Open In Colab\"/></a>"
      ]
    },
    {
      "cell_type": "markdown",
      "metadata": {
        "id": "dOqcKUYZf6JW"
      },
      "source": [
        "### Desafio 4\n",
        "\n",
        "Escreva uma função que receba uma string como parâmetro e retorne outra string com as palavras em ordem inversa.\n",
        "\n",
        "Exemplo:\n",
        "\n",
        "inverte_texto(\"Python é legal\") ➞ \"legal é Python\""
      ]
    },
    {
      "cell_type": "code",
      "metadata": {
        "id": "I5TInJDaf6JW"
      },
      "source": [
        "# Seu código"
      ],
      "execution_count": null,
      "outputs": []
    },
    {
      "cell_type": "code",
      "metadata": {
        "id": "6gq9SLl1xSV1",
        "colab": {
          "base_uri": "https://localhost:8080/"
        },
        "outputId": "b43e36c2-d391-4cb8-cb60-71b55de5d8e9"
      },
      "source": [
        "frase = 'Python é legal'\r\n",
        "def inverte_txt(frase):\r\n",
        "  pass\r\n",
        "  # Transformando frase em lista de palavras\r\n",
        "  listapalavras = frase.split()\r\n",
        "  #print(listapalavras)\r\n",
        "\r\n",
        "  # Revertendo a lista através do reversed\r\n",
        "  # O reversed retorna um reverse iterator, é necessário conv. de volta p lista\r\n",
        "  print(reversed(listapalavras))\r\n",
        "  fraserevert = list(reversed(listapalavras))\r\n",
        "  print('Revertendo através do reversed: {} \\n'.format(fraserevert))\r\n",
        "  \r\n",
        "  #print(listapalavras)\r\n",
        "\r\n",
        "  # Revertendo a lista através do reverse\r\n",
        "  # O reverse faz a alteração inplace, ou seja no objeto que é chamado\r\n",
        "  fraserevert2 = list(listapalavras)\r\n",
        "  fraserevert2.reverse()\r\n",
        "  print('Revertendo através do reverse ' + str(fraserevert2) + '\\n')\r\n",
        "\r\n",
        "  revertido = ''\r\n",
        "  for palavra in listapalavras[::-1]:\r\n",
        "    revertido = revertido + ' ' + palavra\r\n",
        "    print('Revertendo via loop: {} \\n'.format(revertido))\r\n",
        "  \r\n",
        "inverte_txt(frase)\r\n",
        "\r\n",
        "invertida = ''\r\n",
        "for palavra in frase.split():\r\n",
        "    invertida = invertida + ' ' + palavra[::-1]\r\n",
        "    print('Revertendo letra via loop: {} \\n'.format(invertida))\r\n",
        "\r\n",
        "fraserevert = ''\r\n",
        "for palavrarevert in frase.split()[::-1]:\r\n",
        "  print('Palavra revert ' + palavrarevert)\r\n",
        "  for letra in palavrarevert[::-1]:\r\n",
        "    fraserevert = fraserevert + ' ' + letra\r\n",
        "    print('Revertendo letra via loop: {} \\n'.format(fraserevert))\r\n",
        "\r\n",
        "def invertetd(frase):\r\n",
        "  pass\r\n",
        "  invertida = ' '.join(palavra[::-1] for palavra in frase.split())\r\n",
        "  print('Função inverte tudo - A frase que você digitou invertida fica: {} \\n'.format(invertida))\r\n",
        "\r\n",
        "invertetd(frase)\r\n"
      ],
      "execution_count": null,
      "outputs": [
        {
          "output_type": "stream",
          "text": [
            "<list_reverseiterator object at 0x7fcd7592a978>\n",
            "Revertendo através do reversed: ['legal', 'é', 'Python'] \n",
            "\n",
            "Revertendo através do reverse ['legal', 'é', 'Python']\n",
            "\n",
            "Revertendo via loop:  legal \n",
            "\n",
            "Revertendo via loop:  legal é \n",
            "\n",
            "Revertendo via loop:  legal é Python \n",
            "\n",
            "Revertendo letra via loop:  nohtyP \n",
            "\n",
            "Revertendo letra via loop:  nohtyP é \n",
            "\n",
            "Revertendo letra via loop:  nohtyP é lagel \n",
            "\n",
            "Palavra revert legal\n",
            "Revertendo letra via loop:  l \n",
            "\n",
            "Revertendo letra via loop:  l a \n",
            "\n",
            "Revertendo letra via loop:  l a g \n",
            "\n",
            "Revertendo letra via loop:  l a g e \n",
            "\n",
            "Revertendo letra via loop:  l a g e l \n",
            "\n",
            "Palavra revert é\n",
            "Revertendo letra via loop:  l a g e l é \n",
            "\n",
            "Palavra revert Python\n",
            "Revertendo letra via loop:  l a g e l é n \n",
            "\n",
            "Revertendo letra via loop:  l a g e l é n o \n",
            "\n",
            "Revertendo letra via loop:  l a g e l é n o h \n",
            "\n",
            "Revertendo letra via loop:  l a g e l é n o h t \n",
            "\n",
            "Revertendo letra via loop:  l a g e l é n o h t y \n",
            "\n",
            "Revertendo letra via loop:  l a g e l é n o h t y P \n",
            "\n",
            "Função inverte tudo - A frase que você digitou invertida fica: nohtyP é lagel \n",
            "\n"
          ],
          "name": "stdout"
        }
      ]
    }
  ]
}